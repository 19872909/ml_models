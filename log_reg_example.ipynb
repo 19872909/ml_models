{
 "cells": [
  {
   "cell_type": "markdown",
   "id": "d31f85c1",
   "metadata": {},
   "source": [
    "# Regressão Logística\n",
    "\n",
    "A Regressão Logística é um modelo estatístico usado para prever a probabilidade de ocorrência de um evento binário. É amplamente utilizado em tarefas de classificação, onde o objetivo é atribuir uma observação a uma de duas categorias.\n",
    "\n",
    "### Função Logística (Sigmoide):\n",
    "- A regressão logística usa uma função logística (também chamada de função sigmoide) para transformar uma combinação linear das características de entrada em uma probabilidade entre 0 e 1.\n",
    "\n",
    "### Treinamento e Aprendizado de Parâmetros:\n",
    "- O modelo aprende os pesos (β) durante o treinamento para otimizar a capacidade de prever corretamente as probabilidades.\n",
    "\n",
    "### Limiar de Decisão:\n",
    "- O modelo define um limiar de decisão (geralmente 0,5) para atribuir uma observação a uma classe. Se a probabilidade prevista for superior ao limiar, a observação é atribuída à classe 1; caso contrário, é atribuída à classe 0."
   ]
  },
  {
   "cell_type": "code",
   "execution_count": 1,
   "id": "04e0f357",
   "metadata": {},
   "outputs": [],
   "source": [
    "import pandas as pd\n",
    "import numpy as np\n",
    "from sklearn.linear_model import LogisticRegression\n",
    "from sklearn.model_selection import train_test_split\n",
    "from sklearn.metrics import accuracy_score, classification_report"
   ]
  },
  {
   "cell_type": "code",
   "execution_count": 2,
   "id": "961ea2f4",
   "metadata": {},
   "outputs": [
    {
     "data": {
      "text/html": [
       "<div>\n",
       "<style scoped>\n",
       "    .dataframe tbody tr th:only-of-type {\n",
       "        vertical-align: middle;\n",
       "    }\n",
       "\n",
       "    .dataframe tbody tr th {\n",
       "        vertical-align: top;\n",
       "    }\n",
       "\n",
       "    .dataframe thead th {\n",
       "        text-align: right;\n",
       "    }\n",
       "</style>\n",
       "<table border=\"1\" class=\"dataframe\">\n",
       "  <thead>\n",
       "    <tr style=\"text-align: right;\">\n",
       "      <th></th>\n",
       "      <th>Renda</th>\n",
       "      <th>Historico_Credito</th>\n",
       "      <th>Idade</th>\n",
       "      <th>Aprovacao_Emprestimo</th>\n",
       "    </tr>\n",
       "  </thead>\n",
       "  <tbody>\n",
       "    <tr>\n",
       "      <th>0</th>\n",
       "      <td>57450.712295</td>\n",
       "      <td>Bom</td>\n",
       "      <td>60</td>\n",
       "      <td>1</td>\n",
       "    </tr>\n",
       "    <tr>\n",
       "      <th>1</th>\n",
       "      <td>47926.035482</td>\n",
       "      <td>Ruim</td>\n",
       "      <td>18</td>\n",
       "      <td>1</td>\n",
       "    </tr>\n",
       "    <tr>\n",
       "      <th>2</th>\n",
       "      <td>59715.328072</td>\n",
       "      <td>Bom</td>\n",
       "      <td>62</td>\n",
       "      <td>1</td>\n",
       "    </tr>\n",
       "    <tr>\n",
       "      <th>3</th>\n",
       "      <td>72845.447846</td>\n",
       "      <td>Ruim</td>\n",
       "      <td>41</td>\n",
       "      <td>1</td>\n",
       "    </tr>\n",
       "    <tr>\n",
       "      <th>4</th>\n",
       "      <td>46487.699379</td>\n",
       "      <td>Bom</td>\n",
       "      <td>52</td>\n",
       "      <td>1</td>\n",
       "    </tr>\n",
       "  </tbody>\n",
       "</table>\n",
       "</div>"
      ],
      "text/plain": [
       "          Renda Historico_Credito  Idade  Aprovacao_Emprestimo\n",
       "0  57450.712295               Bom     60                     1\n",
       "1  47926.035482              Ruim     18                     1\n",
       "2  59715.328072               Bom     62                     1\n",
       "3  72845.447846              Ruim     41                     1\n",
       "4  46487.699379               Bom     52                     1"
      ]
     },
     "execution_count": 2,
     "metadata": {},
     "output_type": "execute_result"
    }
   ],
   "source": [
    "#Geracao dos Dados\n",
    "\n",
    "# Definindo a semente para reproducibilidade\n",
    "np.random.seed(42)\n",
    "\n",
    "# Criando um DataFrame fictício\n",
    "data = {\n",
    "    'Renda': np.random.normal(50000, 15000, 1000),  # Distribuição normal com média 50000 e desvio padrão 15000\n",
    "    'Historico_Credito': np.random.choice(['Bom', 'Ruim'], size=1000),\n",
    "    'Idade': np.random.randint(18, 65, 1000),\n",
    "    'Aprovacao_Emprestimo': np.random.choice([0, 1], size=1000)\n",
    "}\n",
    "\n",
    "df = pd.DataFrame(data)\n",
    "\n",
    "# Exibindo uma amostra do DataFrame\n",
    "df.head()"
   ]
  },
  {
   "cell_type": "markdown",
   "id": "aea4c42b",
   "metadata": {},
   "source": [
    "## Modelo ML Logistic Regression"
   ]
  },
  {
   "cell_type": "code",
   "execution_count": 3,
   "id": "7bb435c5",
   "metadata": {},
   "outputs": [],
   "source": [
    "#Preparacao dos dados:\n",
    "\n",
    "# Separando características (X) e rótulos (y)\n",
    "X = df[['Renda', 'Historico_Credito', 'Idade']]\n",
    "y = df['Aprovacao_Emprestimo']\n",
    "\n",
    "# Convertendo variáveis categóricas em variáveis dummy\n",
    "X = pd.get_dummies(X, columns=['Historico_Credito'], drop_first=True)\n",
    "\n",
    "# Dividindo o conjunto de dados\n",
    "X_train, X_test, y_train, y_test = train_test_split(X, y, test_size=0.2, random_state=42)"
   ]
  },
  {
   "cell_type": "code",
   "execution_count": 4,
   "id": "968034f9",
   "metadata": {},
   "outputs": [
    {
     "data": {
      "text/plain": [
       "LogisticRegression()"
      ]
     },
     "execution_count": 4,
     "metadata": {},
     "output_type": "execute_result"
    }
   ],
   "source": [
    "# Inicializando e treinando o modelo de Regressão Logística\n",
    "model = LogisticRegression()\n",
    "model.fit(X_train, y_train)"
   ]
  },
  {
   "cell_type": "code",
   "execution_count": 5,
   "id": "0830a9b6",
   "metadata": {},
   "outputs": [],
   "source": [
    "# Fazendo previsões no conjunto de teste\n",
    "predictions = model.predict(X_test)"
   ]
  },
  {
   "cell_type": "code",
   "execution_count": 6,
   "id": "6c2f6b0d",
   "metadata": {},
   "outputs": [
    {
     "name": "stdout",
     "output_type": "stream",
     "text": [
      "Acurácia: 0.44\n"
     ]
    }
   ],
   "source": [
    "# Avaliando o desempenho do modelo\n",
    "accuracy = accuracy_score(y_test, predictions)\n",
    "print(f\"Acurácia: {accuracy}\")"
   ]
  },
  {
   "cell_type": "code",
   "execution_count": 7,
   "id": "3908367b",
   "metadata": {},
   "outputs": [
    {
     "name": "stdout",
     "output_type": "stream",
     "text": [
      "Relatório de Classificação:\n",
      "               precision    recall  f1-score   support\n",
      "\n",
      "           0       0.48      0.53      0.50       108\n",
      "           1       0.38      0.34      0.36        92\n",
      "\n",
      "    accuracy                           0.44       200\n",
      "   macro avg       0.43      0.43      0.43       200\n",
      "weighted avg       0.43      0.44      0.44       200\n",
      "\n"
     ]
    }
   ],
   "source": [
    "# Avaliando o desempenho do modelo\n",
    "report = classification_report(y_test, predictions)\n",
    "\n",
    "# Imprimindo os resultados\n",
    "print(\"Relatório de Classificação:\\n\", report)"
   ]
  },
  {
   "cell_type": "markdown",
   "id": "933b18ab",
   "metadata": {},
   "source": [
    "### Previsões em novos dados"
   ]
  },
  {
   "cell_type": "code",
   "execution_count": 8,
   "id": "3b7a2ec2",
   "metadata": {},
   "outputs": [
    {
     "data": {
      "text/html": [
       "<div>\n",
       "<style scoped>\n",
       "    .dataframe tbody tr th:only-of-type {\n",
       "        vertical-align: middle;\n",
       "    }\n",
       "\n",
       "    .dataframe tbody tr th {\n",
       "        vertical-align: top;\n",
       "    }\n",
       "\n",
       "    .dataframe thead th {\n",
       "        text-align: right;\n",
       "    }\n",
       "</style>\n",
       "<table border=\"1\" class=\"dataframe\">\n",
       "  <thead>\n",
       "    <tr style=\"text-align: right;\">\n",
       "      <th></th>\n",
       "      <th>Renda</th>\n",
       "      <th>Idade</th>\n",
       "      <th>Historico_Credito_Ruim</th>\n",
       "    </tr>\n",
       "  </thead>\n",
       "  <tbody>\n",
       "    <tr>\n",
       "      <th>0</th>\n",
       "      <td>85926.794116</td>\n",
       "      <td>56</td>\n",
       "      <td>1</td>\n",
       "    </tr>\n",
       "    <tr>\n",
       "      <th>1</th>\n",
       "      <td>55678.918753</td>\n",
       "      <td>41</td>\n",
       "      <td>0</td>\n",
       "    </tr>\n",
       "    <tr>\n",
       "      <th>2</th>\n",
       "      <td>50954.959695</td>\n",
       "      <td>61</td>\n",
       "      <td>0</td>\n",
       "    </tr>\n",
       "    <tr>\n",
       "      <th>3</th>\n",
       "      <td>59573.409158</td>\n",
       "      <td>31</td>\n",
       "      <td>0</td>\n",
       "    </tr>\n",
       "    <tr>\n",
       "      <th>4</th>\n",
       "      <td>59141.829799</td>\n",
       "      <td>61</td>\n",
       "      <td>1</td>\n",
       "    </tr>\n",
       "  </tbody>\n",
       "</table>\n",
       "</div>"
      ],
      "text/plain": [
       "          Renda  Idade  Historico_Credito_Ruim\n",
       "0  85926.794116     56                       1\n",
       "1  55678.918753     41                       0\n",
       "2  50954.959695     61                       0\n",
       "3  59573.409158     31                       0\n",
       "4  59141.829799     61                       1"
      ]
     },
     "execution_count": 8,
     "metadata": {},
     "output_type": "execute_result"
    }
   ],
   "source": [
    "# Gerando novos dados fictícios para teste\n",
    "new_data = {\n",
    "    'Renda': np.random.normal(55000, 17000, 200),  # Média 55000, Desvio padrão 17000\n",
    "    'Historico_Credito': np.random.choice(['Bom', 'Ruim'], size=200),\n",
    "    'Idade': np.random.randint(20, 70, 200)\n",
    "}\n",
    "\n",
    "new_df = pd.DataFrame(new_data)\n",
    "\n",
    "# Convertendo variáveis categóricas em variáveis dummy\n",
    "new_df = pd.get_dummies(new_df, columns=['Historico_Credito'], drop_first=True)\n",
    "\n",
    "new_df.head()"
   ]
  },
  {
   "cell_type": "code",
   "execution_count": 9,
   "id": "26c3735a",
   "metadata": {},
   "outputs": [
    {
     "data": {
      "text/html": [
       "<div>\n",
       "<style scoped>\n",
       "    .dataframe tbody tr th:only-of-type {\n",
       "        vertical-align: middle;\n",
       "    }\n",
       "\n",
       "    .dataframe tbody tr th {\n",
       "        vertical-align: top;\n",
       "    }\n",
       "\n",
       "    .dataframe thead th {\n",
       "        text-align: right;\n",
       "    }\n",
       "</style>\n",
       "<table border=\"1\" class=\"dataframe\">\n",
       "  <thead>\n",
       "    <tr style=\"text-align: right;\">\n",
       "      <th></th>\n",
       "      <th>Renda</th>\n",
       "      <th>Idade</th>\n",
       "      <th>Historico_Credito_Ruim</th>\n",
       "      <th>Aprovacao_Emprestimo_Prevista</th>\n",
       "    </tr>\n",
       "  </thead>\n",
       "  <tbody>\n",
       "    <tr>\n",
       "      <th>0</th>\n",
       "      <td>85926.794116</td>\n",
       "      <td>56</td>\n",
       "      <td>1</td>\n",
       "      <td>0</td>\n",
       "    </tr>\n",
       "    <tr>\n",
       "      <th>1</th>\n",
       "      <td>55678.918753</td>\n",
       "      <td>41</td>\n",
       "      <td>0</td>\n",
       "      <td>1</td>\n",
       "    </tr>\n",
       "    <tr>\n",
       "      <th>2</th>\n",
       "      <td>50954.959695</td>\n",
       "      <td>61</td>\n",
       "      <td>0</td>\n",
       "      <td>1</td>\n",
       "    </tr>\n",
       "    <tr>\n",
       "      <th>3</th>\n",
       "      <td>59573.409158</td>\n",
       "      <td>31</td>\n",
       "      <td>0</td>\n",
       "      <td>1</td>\n",
       "    </tr>\n",
       "    <tr>\n",
       "      <th>4</th>\n",
       "      <td>59141.829799</td>\n",
       "      <td>61</td>\n",
       "      <td>1</td>\n",
       "      <td>0</td>\n",
       "    </tr>\n",
       "  </tbody>\n",
       "</table>\n",
       "</div>"
      ],
      "text/plain": [
       "          Renda  Idade  Historico_Credito_Ruim  Aprovacao_Emprestimo_Prevista\n",
       "0  85926.794116     56                       1                              0\n",
       "1  55678.918753     41                       0                              1\n",
       "2  50954.959695     61                       0                              1\n",
       "3  59573.409158     31                       0                              1\n",
       "4  59141.829799     61                       1                              0"
      ]
     },
     "execution_count": 9,
     "metadata": {},
     "output_type": "execute_result"
    }
   ],
   "source": [
    "# Fazendo previsões nos novos dados usando o modelo treinado\n",
    "new_predictions = model.predict(new_df)\n",
    "\n",
    "# Adicionando as previsões ao DataFrame\n",
    "new_df['Aprovacao_Emprestimo_Prevista'] = new_predictions\n",
    "\n",
    "# Exibindo uma amostra dos novos dados com as previsões\n",
    "new_df.head()"
   ]
  }
 ],
 "metadata": {
  "kernelspec": {
   "display_name": "Python 3",
   "language": "python",
   "name": "python3"
  },
  "language_info": {
   "codemirror_mode": {
    "name": "ipython",
    "version": 3
   },
   "file_extension": ".py",
   "mimetype": "text/x-python",
   "name": "python",
   "nbconvert_exporter": "python",
   "pygments_lexer": "ipython3",
   "version": "3.6.13"
  }
 },
 "nbformat": 4,
 "nbformat_minor": 5
}
