{
 "cells": [
  {
   "cell_type": "markdown",
   "id": "a4b59f7a",
   "metadata": {},
   "source": [
    "# NLP - Natural Language Process\n",
    "\n",
    "1. **Vetorização de Texto:**\n",
    "   - Transformar textos em representações numéricas. Isso pode ser feito usando técnicas como Bag of Words (BoW) ou embeddings (por exemplo, Word2Vec, GloVe).\n",
    "\n",
    "2. **Escolha do Modelo de Machine Learning:**\n",
    "   - Selecionar um modelo adequado para a tarefa. Para classificação de texto, o Naive Bayes (como o MultinomialNB) é uma escolha comum, mas há outros modelos, como Support Vector Machines (SVM), Redes Neurais, entre outros.\n",
    "\n",
    "3. **Treinamento do Modelo:**\n",
    "   - Utilizar um conjunto de dados rotulado para treinar o modelo. Isso envolve apresentar os textos vetorizados ao modelo, juntamente com seus rótulos correspondentes. O modelo aprende a relação entre os textos e os rótulos.\n",
    "\n",
    "4. **Avaliação do Modelo:**\n",
    "   - Avaliar o desempenho do modelo em um conjunto de dados de teste para garantir que ele generalize bem para novos dados não vistos.\n",
    "\n",
    "5. **Previsões em Novos Textos:**\n",
    "   - Uma vez treinado e avaliado, o modelo pode ser usado para fazer previsões em novos textos vetorizados. Isso é útil para classificar sentimentos, categorizar documentos, entre outras tarefas.\n",
    "\n",
    "Esses passos resumem a abordagem básica de um projeto de Processamento de Linguagem Natural (NLP) com Machine Learning. O uso do MultinomialNB é apenas um exemplo; a escolha do modelo depende da natureza específica da tarefa e dos dados. O NLP é uma área rica e em constante evolução, com uma variedade de técnicas e modelos disponíveis para diversas aplicações."
   ]
  },
  {
   "cell_type": "code",
   "execution_count": 1,
   "id": "db600c8b",
   "metadata": {},
   "outputs": [],
   "source": [
    "#pip install sklearn"
   ]
  },
  {
   "cell_type": "code",
   "execution_count": 2,
   "id": "f56ef1fb",
   "metadata": {},
   "outputs": [],
   "source": [
    "# Importando as bibliotecas necessárias\n",
    "import pandas as pd\n",
    "import random\n",
    "from sklearn.model_selection import train_test_split\n",
    "from sklearn.feature_extraction.text import CountVectorizer\n",
    "from sklearn.naive_bayes import MultinomialNB\n",
    "from sklearn.metrics import accuracy_score, classification_report"
   ]
  },
  {
   "cell_type": "code",
   "execution_count": 3,
   "id": "33776fe3",
   "metadata": {},
   "outputs": [
    {
     "data": {
      "text/html": [
       "<div>\n",
       "<style scoped>\n",
       "    .dataframe tbody tr th:only-of-type {\n",
       "        vertical-align: middle;\n",
       "    }\n",
       "\n",
       "    .dataframe tbody tr th {\n",
       "        vertical-align: top;\n",
       "    }\n",
       "\n",
       "    .dataframe thead th {\n",
       "        text-align: right;\n",
       "    }\n",
       "</style>\n",
       "<table border=\"1\" class=\"dataframe\">\n",
       "  <thead>\n",
       "    <tr style=\"text-align: right;\">\n",
       "      <th></th>\n",
       "      <th>Avaliação</th>\n",
       "      <th>Sentimento</th>\n",
       "    </tr>\n",
       "  </thead>\n",
       "  <tbody>\n",
       "    <tr>\n",
       "      <th>0</th>\n",
       "      <td>Incrível qualidade!</td>\n",
       "      <td>Negativo</td>\n",
       "    </tr>\n",
       "    <tr>\n",
       "      <th>1</th>\n",
       "      <td>Incrível entrega!</td>\n",
       "      <td>Positivo</td>\n",
       "    </tr>\n",
       "    <tr>\n",
       "      <th>2</th>\n",
       "      <td>Excelente atendimento!</td>\n",
       "      <td>Positivo</td>\n",
       "    </tr>\n",
       "    <tr>\n",
       "      <th>3</th>\n",
       "      <td>Bom qualidade!</td>\n",
       "      <td>Positivo</td>\n",
       "    </tr>\n",
       "    <tr>\n",
       "      <th>4</th>\n",
       "      <td>Horrível qualidade!</td>\n",
       "      <td>Positivo</td>\n",
       "    </tr>\n",
       "  </tbody>\n",
       "</table>\n",
       "</div>"
      ],
      "text/plain": [
       "                Avaliação Sentimento\n",
       "0     Incrível qualidade!   Negativo\n",
       "1       Incrível entrega!   Positivo\n",
       "2  Excelente atendimento!   Positivo\n",
       "3          Bom qualidade!   Positivo\n",
       "4     Horrível qualidade!   Positivo"
      ]
     },
     "execution_count": 3,
     "metadata": {},
     "output_type": "execute_result"
    }
   ],
   "source": [
    "# Gerando 200 avaliações fictícias\n",
    "def generate_reviews(n):\n",
    "    adjectives = [\"Incrível\", \"Bom\", \"Ruim\", \"Fantástico\", \"Horrível\", \"Ótimo\", \"Insatisfatório\", \"Excelente\"]\n",
    "    services = [\"serviço\", \"produto\", \"atendimento\", \"entrega\", \"qualidade\"]\n",
    "    \n",
    "    reviews = []\n",
    "    sentiments = []\n",
    "    \n",
    "    for _ in range(n):\n",
    "        review = f\"{random.choice(adjectives)} {random.choice(services)}!\"\n",
    "        sentiment = random.choice([\"Positivo\", \"Negativo\"])\n",
    "        \n",
    "        reviews.append(review)\n",
    "        sentiments.append(sentiment)\n",
    "    \n",
    "    return reviews, sentiments\n",
    "\n",
    "# Gerando o conjunto de dados\n",
    "reviews, sentiments = generate_reviews(200)\n",
    "\n",
    "# Criando um DataFrame a partir do conjunto de dados\n",
    "df = pd.DataFrame({'Avaliação': reviews, 'Sentimento': sentiments})\n",
    "\n",
    "# Exibindo uma amostra do conjunto de dados\n",
    "df.head()"
   ]
  },
  {
   "cell_type": "markdown",
   "id": "d69382a6",
   "metadata": {},
   "source": [
    "### Modelo ML Naive Bayes"
   ]
  },
  {
   "cell_type": "code",
   "execution_count": 4,
   "id": "248a4cc5",
   "metadata": {},
   "outputs": [],
   "source": [
    "# Dados de exemplo: Avaliações rotuladas com sentimentos\n",
    "reviews = df[\"Avaliação\"]\n",
    "sentiments = df[\"Sentimento\"]\n",
    "\n",
    "# Dividindo os dados em conjuntos de treinamento e teste\n",
    "X_train, X_test, y_train, y_test = train_test_split(reviews, sentiments, test_size=0.2, random_state=42)"
   ]
  },
  {
   "cell_type": "code",
   "execution_count": 5,
   "id": "ab2c694c",
   "metadata": {},
   "outputs": [],
   "source": [
    "# Vetorizando os textos usando Bag of Words\n",
    "\n",
    "#Transforma os textos em vetores numéricos.\n",
    "vectorizer = CountVectorizer()\n",
    "\n",
    "#Aprende o vocabulário e transforma os documentos em vetores numéricos.\n",
    "X_train_vectorized = vectorizer.fit_transform(X_train)\n",
    "\n",
    "#Transforma os documentos em vetores numéricos.\n",
    "X_test_vectorized = vectorizer.transform(X_test)"
   ]
  },
  {
   "cell_type": "code",
   "execution_count": 6,
   "id": "84a73fbb",
   "metadata": {},
   "outputs": [],
   "source": [
    "# Treinando o modelo Naive Bayes\n",
    "\n",
    "#MultinomialNB, é um classificador Naive Bayes adequado para dados discretos, como contagens de palavras.\n",
    "classifier = MultinomialNB()\n",
    "#Treino do modelo com os vetores de treinamento (X_train_vectorized) e os rótulos correspondentes (y_train).\n",
    "classifier.fit(X_train_vectorized, y_train)\n",
    "\n",
    "# Fazendo previsões no conjunto de teste\n",
    "predictions = classifier.predict(X_test_vectorized)"
   ]
  },
  {
   "cell_type": "code",
   "execution_count": 7,
   "id": "3b90490d",
   "metadata": {},
   "outputs": [
    {
     "name": "stdout",
     "output_type": "stream",
     "text": [
      "Acurácia: 0.525\n"
     ]
    }
   ],
   "source": [
    "# Avaliando o desempenho do modelo\n",
    "accuracy = accuracy_score(y_test, predictions)\n",
    "\n",
    "# Imprimindo os resultados\n",
    "print(f\"Acurácia: {accuracy}\")"
   ]
  },
  {
   "cell_type": "code",
   "execution_count": 8,
   "id": "23f7a837",
   "metadata": {},
   "outputs": [
    {
     "name": "stdout",
     "output_type": "stream",
     "text": [
      "Relatório de Classificação:\n",
      "               precision    recall  f1-score   support\n",
      "\n",
      "    Negativo       0.41      0.44      0.42        16\n",
      "    Positivo       0.61      0.58      0.60        24\n",
      "\n",
      "    accuracy                           0.53        40\n",
      "   macro avg       0.51      0.51      0.51        40\n",
      "weighted avg       0.53      0.53      0.53        40\n",
      "\n"
     ]
    }
   ],
   "source": [
    "report = classification_report(y_test, predictions)\n",
    "print(\"Relatório de Classificação:\\n\", report)"
   ]
  },
  {
   "cell_type": "markdown",
   "id": "3c14581d",
   "metadata": {},
   "source": [
    "## Previsões em novos textos"
   ]
  },
  {
   "cell_type": "code",
   "execution_count": 9,
   "id": "3d1e9d5a",
   "metadata": {},
   "outputs": [
    {
     "data": {
      "text/html": [
       "<div>\n",
       "<style scoped>\n",
       "    .dataframe tbody tr th:only-of-type {\n",
       "        vertical-align: middle;\n",
       "    }\n",
       "\n",
       "    .dataframe tbody tr th {\n",
       "        vertical-align: top;\n",
       "    }\n",
       "\n",
       "    .dataframe thead th {\n",
       "        text-align: right;\n",
       "    }\n",
       "</style>\n",
       "<table border=\"1\" class=\"dataframe\">\n",
       "  <thead>\n",
       "    <tr style=\"text-align: right;\">\n",
       "      <th></th>\n",
       "      <th>Avaliação</th>\n",
       "    </tr>\n",
       "  </thead>\n",
       "  <tbody>\n",
       "    <tr>\n",
       "      <th>0</th>\n",
       "      <td>Fantástico qualidade!</td>\n",
       "    </tr>\n",
       "    <tr>\n",
       "      <th>1</th>\n",
       "      <td>Horrível atendimento!</td>\n",
       "    </tr>\n",
       "    <tr>\n",
       "      <th>2</th>\n",
       "      <td>Insatisfatório entrega!</td>\n",
       "    </tr>\n",
       "    <tr>\n",
       "      <th>3</th>\n",
       "      <td>Incrível atendimento!</td>\n",
       "    </tr>\n",
       "    <tr>\n",
       "      <th>4</th>\n",
       "      <td>Horrível serviço!</td>\n",
       "    </tr>\n",
       "  </tbody>\n",
       "</table>\n",
       "</div>"
      ],
      "text/plain": [
       "                 Avaliação\n",
       "0    Fantástico qualidade!\n",
       "1    Horrível atendimento!\n",
       "2  Insatisfatório entrega!\n",
       "3    Incrível atendimento!\n",
       "4        Horrível serviço!"
      ]
     },
     "execution_count": 9,
     "metadata": {},
     "output_type": "execute_result"
    }
   ],
   "source": [
    "# Gerando mais 300 avaliações fictícias sem rótulos de sentimentos\n",
    "new_reviews, _ = generate_reviews(300)\n",
    "\n",
    "# Criando um novo DataFrame sem os rótulos de sentimentos\n",
    "new_df = pd.DataFrame({'Avaliação': new_reviews})\n",
    "\n",
    "# Exibindo uma amostra do novo conjunto de dados\n",
    "new_df.head()"
   ]
  },
  {
   "cell_type": "code",
   "execution_count": 10,
   "id": "b48ba54e",
   "metadata": {},
   "outputs": [
    {
     "data": {
      "text/html": [
       "<div>\n",
       "<style scoped>\n",
       "    .dataframe tbody tr th:only-of-type {\n",
       "        vertical-align: middle;\n",
       "    }\n",
       "\n",
       "    .dataframe tbody tr th {\n",
       "        vertical-align: top;\n",
       "    }\n",
       "\n",
       "    .dataframe thead th {\n",
       "        text-align: right;\n",
       "    }\n",
       "</style>\n",
       "<table border=\"1\" class=\"dataframe\">\n",
       "  <thead>\n",
       "    <tr style=\"text-align: right;\">\n",
       "      <th></th>\n",
       "      <th>Avaliação</th>\n",
       "      <th>Sentimento_Previsto</th>\n",
       "    </tr>\n",
       "  </thead>\n",
       "  <tbody>\n",
       "    <tr>\n",
       "      <th>0</th>\n",
       "      <td>Fantástico qualidade!</td>\n",
       "      <td>Negativo</td>\n",
       "    </tr>\n",
       "    <tr>\n",
       "      <th>1</th>\n",
       "      <td>Horrível atendimento!</td>\n",
       "      <td>Positivo</td>\n",
       "    </tr>\n",
       "    <tr>\n",
       "      <th>2</th>\n",
       "      <td>Insatisfatório entrega!</td>\n",
       "      <td>Positivo</td>\n",
       "    </tr>\n",
       "    <tr>\n",
       "      <th>3</th>\n",
       "      <td>Incrível atendimento!</td>\n",
       "      <td>Positivo</td>\n",
       "    </tr>\n",
       "    <tr>\n",
       "      <th>4</th>\n",
       "      <td>Horrível serviço!</td>\n",
       "      <td>Positivo</td>\n",
       "    </tr>\n",
       "  </tbody>\n",
       "</table>\n",
       "</div>"
      ],
      "text/plain": [
       "                 Avaliação Sentimento_Previsto\n",
       "0    Fantástico qualidade!            Negativo\n",
       "1    Horrível atendimento!            Positivo\n",
       "2  Insatisfatório entrega!            Positivo\n",
       "3    Incrível atendimento!            Positivo\n",
       "4        Horrível serviço!            Positivo"
      ]
     },
     "execution_count": 10,
     "metadata": {},
     "output_type": "execute_result"
    }
   ],
   "source": [
    "# Vetorizando as novas avaliações\n",
    "new_reviews_vectorized = vectorizer.transform(new_df['Avaliação'])\n",
    "\n",
    "# Fazendo previsões usando o modelo treinado\n",
    "new_predictions = classifier.predict(new_reviews_vectorized)\n",
    "\n",
    "# Adicionando as previsões ao DataFrame\n",
    "new_df['Sentimento_Previsto'] = new_predictions\n",
    "\n",
    "# Exibindo o DataFrame com as previsões\n",
    "new_df.head()"
   ]
  },
  {
   "cell_type": "code",
   "execution_count": null,
   "id": "8a1c2a5a",
   "metadata": {},
   "outputs": [],
   "source": []
  }
 ],
 "metadata": {
  "kernelspec": {
   "display_name": "Python 3",
   "language": "python",
   "name": "python3"
  },
  "language_info": {
   "codemirror_mode": {
    "name": "ipython",
    "version": 3
   },
   "file_extension": ".py",
   "mimetype": "text/x-python",
   "name": "python",
   "nbconvert_exporter": "python",
   "pygments_lexer": "ipython3",
   "version": "3.6.13"
  }
 },
 "nbformat": 4,
 "nbformat_minor": 5
}
